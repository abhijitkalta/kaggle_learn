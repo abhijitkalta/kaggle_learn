{
 "cells": [
  {
   "cell_type": "code",
   "execution_count": 1,
   "id": "f3516364-880c-42c2-82a7-6930e5cb4883",
   "metadata": {},
   "outputs": [],
   "source": [
    "import numpy as np\n",
    "import pandas as pd\n",
    "import matplotlib.pyplot as plt\n",
    "import seaborn as sns"
   ]
  },
  {
   "cell_type": "code",
   "execution_count": 2,
   "id": "8938d05b-4f02-4db4-ba1b-d8edac0fe5b4",
   "metadata": {},
   "outputs": [],
   "source": [
    "df = pd.read_csv('../input/train.csv')"
   ]
  },
  {
   "cell_type": "code",
   "execution_count": 3,
   "id": "09bfdd46-a3c0-41ce-8c3e-caab5f4a6b02",
   "metadata": {},
   "outputs": [
    {
     "name": "stdout",
     "output_type": "stream",
     "text": [
      "<class 'pandas.core.frame.DataFrame'>\n",
      "RangeIndex: 600000 entries, 0 to 599999\n",
      "Data columns (total 25 columns):\n",
      " #   Column  Non-Null Count   Dtype  \n",
      "---  ------  --------------   -----  \n",
      " 0   id      600000 non-null  int64  \n",
      " 1   bin_0   582106 non-null  float64\n",
      " 2   bin_1   581997 non-null  float64\n",
      " 3   bin_2   582070 non-null  float64\n",
      " 4   bin_3   581986 non-null  object \n",
      " 5   bin_4   581953 non-null  object \n",
      " 6   nom_0   581748 non-null  object \n",
      " 7   nom_1   581844 non-null  object \n",
      " 8   nom_2   581965 non-null  object \n",
      " 9   nom_3   581879 non-null  object \n",
      " 10  nom_4   581965 non-null  object \n",
      " 11  nom_5   582222 non-null  object \n",
      " 12  nom_6   581869 non-null  object \n",
      " 13  nom_7   581997 non-null  object \n",
      " 14  nom_8   582245 non-null  object \n",
      " 15  nom_9   581927 non-null  object \n",
      " 16  ord_0   581712 non-null  float64\n",
      " 17  ord_1   581959 non-null  object \n",
      " 18  ord_2   581925 non-null  object \n",
      " 19  ord_3   582084 non-null  object \n",
      " 20  ord_4   582070 non-null  object \n",
      " 21  ord_5   582287 non-null  object \n",
      " 22  day     582048 non-null  float64\n",
      " 23  month   582012 non-null  float64\n",
      " 24  target  600000 non-null  int64  \n",
      "dtypes: float64(6), int64(2), object(17)\n",
      "memory usage: 114.4+ MB\n"
     ]
    }
   ],
   "source": [
    "df.info()"
   ]
  },
  {
   "cell_type": "code",
   "execution_count": 9,
   "id": "1b372f6e-c901-4666-9b8d-f7d20cc28b45",
   "metadata": {},
   "outputs": [
    {
     "data": {
      "text/html": [
       "<div>\n",
       "<style scoped>\n",
       "    .dataframe tbody tr th:only-of-type {\n",
       "        vertical-align: middle;\n",
       "    }\n",
       "\n",
       "    .dataframe tbody tr th {\n",
       "        vertical-align: top;\n",
       "    }\n",
       "\n",
       "    .dataframe thead th {\n",
       "        text-align: right;\n",
       "    }\n",
       "</style>\n",
       "<table border=\"1\" class=\"dataframe\">\n",
       "  <thead>\n",
       "    <tr style=\"text-align: right;\">\n",
       "      <th></th>\n",
       "      <th>0</th>\n",
       "      <th>1</th>\n",
       "      <th>2</th>\n",
       "      <th>3</th>\n",
       "      <th>4</th>\n",
       "    </tr>\n",
       "  </thead>\n",
       "  <tbody>\n",
       "    <tr>\n",
       "      <th>id</th>\n",
       "      <td>0</td>\n",
       "      <td>1</td>\n",
       "      <td>2</td>\n",
       "      <td>3</td>\n",
       "      <td>4</td>\n",
       "    </tr>\n",
       "    <tr>\n",
       "      <th>bin_0</th>\n",
       "      <td>0.0</td>\n",
       "      <td>1.0</td>\n",
       "      <td>0.0</td>\n",
       "      <td>NaN</td>\n",
       "      <td>0.0</td>\n",
       "    </tr>\n",
       "    <tr>\n",
       "      <th>bin_1</th>\n",
       "      <td>0.0</td>\n",
       "      <td>1.0</td>\n",
       "      <td>1.0</td>\n",
       "      <td>0.0</td>\n",
       "      <td>NaN</td>\n",
       "    </tr>\n",
       "    <tr>\n",
       "      <th>bin_2</th>\n",
       "      <td>0.0</td>\n",
       "      <td>0.0</td>\n",
       "      <td>0.0</td>\n",
       "      <td>0.0</td>\n",
       "      <td>0.0</td>\n",
       "    </tr>\n",
       "    <tr>\n",
       "      <th>bin_3</th>\n",
       "      <td>F</td>\n",
       "      <td>F</td>\n",
       "      <td>F</td>\n",
       "      <td>F</td>\n",
       "      <td>T</td>\n",
       "    </tr>\n",
       "    <tr>\n",
       "      <th>bin_4</th>\n",
       "      <td>N</td>\n",
       "      <td>Y</td>\n",
       "      <td>N</td>\n",
       "      <td>N</td>\n",
       "      <td>N</td>\n",
       "    </tr>\n",
       "    <tr>\n",
       "      <th>nom_0</th>\n",
       "      <td>Red</td>\n",
       "      <td>Red</td>\n",
       "      <td>Red</td>\n",
       "      <td>Red</td>\n",
       "      <td>Red</td>\n",
       "    </tr>\n",
       "    <tr>\n",
       "      <th>nom_1</th>\n",
       "      <td>Trapezoid</td>\n",
       "      <td>Star</td>\n",
       "      <td>NaN</td>\n",
       "      <td>Circle</td>\n",
       "      <td>Triangle</td>\n",
       "    </tr>\n",
       "    <tr>\n",
       "      <th>nom_2</th>\n",
       "      <td>Hamster</td>\n",
       "      <td>Axolotl</td>\n",
       "      <td>Hamster</td>\n",
       "      <td>Hamster</td>\n",
       "      <td>Hamster</td>\n",
       "    </tr>\n",
       "    <tr>\n",
       "      <th>nom_3</th>\n",
       "      <td>Russia</td>\n",
       "      <td>NaN</td>\n",
       "      <td>Canada</td>\n",
       "      <td>Finland</td>\n",
       "      <td>Costa Rica</td>\n",
       "    </tr>\n",
       "    <tr>\n",
       "      <th>nom_4</th>\n",
       "      <td>Bassoon</td>\n",
       "      <td>Theremin</td>\n",
       "      <td>Bassoon</td>\n",
       "      <td>Theremin</td>\n",
       "      <td>NaN</td>\n",
       "    </tr>\n",
       "    <tr>\n",
       "      <th>nom_5</th>\n",
       "      <td>de4c57ee2</td>\n",
       "      <td>2bb3c3e5c</td>\n",
       "      <td>b574c9841</td>\n",
       "      <td>673bdf1f6</td>\n",
       "      <td>777d1ac2c</td>\n",
       "    </tr>\n",
       "    <tr>\n",
       "      <th>nom_6</th>\n",
       "      <td>a64bc7ddf</td>\n",
       "      <td>3a3a936e8</td>\n",
       "      <td>708248125</td>\n",
       "      <td>23edb8da3</td>\n",
       "      <td>3a7975e46</td>\n",
       "    </tr>\n",
       "    <tr>\n",
       "      <th>nom_7</th>\n",
       "      <td>598080a91</td>\n",
       "      <td>1dddb8473</td>\n",
       "      <td>5ddc9a726</td>\n",
       "      <td>3a33ef960</td>\n",
       "      <td>bc9cc2a94</td>\n",
       "    </tr>\n",
       "    <tr>\n",
       "      <th>nom_8</th>\n",
       "      <td>0256c7a4b</td>\n",
       "      <td>52ead350c</td>\n",
       "      <td>745b909d1</td>\n",
       "      <td>bdaa56dd1</td>\n",
       "      <td>NaN</td>\n",
       "    </tr>\n",
       "    <tr>\n",
       "      <th>nom_9</th>\n",
       "      <td>02e7c8990</td>\n",
       "      <td>f37df64af</td>\n",
       "      <td>NaN</td>\n",
       "      <td>f9d456e57</td>\n",
       "      <td>c5361037c</td>\n",
       "    </tr>\n",
       "    <tr>\n",
       "      <th>ord_0</th>\n",
       "      <td>3.0</td>\n",
       "      <td>3.0</td>\n",
       "      <td>3.0</td>\n",
       "      <td>1.0</td>\n",
       "      <td>3.0</td>\n",
       "    </tr>\n",
       "    <tr>\n",
       "      <th>ord_1</th>\n",
       "      <td>Contributor</td>\n",
       "      <td>Grandmaster</td>\n",
       "      <td>NaN</td>\n",
       "      <td>Novice</td>\n",
       "      <td>Grandmaster</td>\n",
       "    </tr>\n",
       "    <tr>\n",
       "      <th>ord_2</th>\n",
       "      <td>Hot</td>\n",
       "      <td>Warm</td>\n",
       "      <td>Freezing</td>\n",
       "      <td>Lava Hot</td>\n",
       "      <td>Cold</td>\n",
       "    </tr>\n",
       "    <tr>\n",
       "      <th>ord_3</th>\n",
       "      <td>c</td>\n",
       "      <td>e</td>\n",
       "      <td>n</td>\n",
       "      <td>a</td>\n",
       "      <td>h</td>\n",
       "    </tr>\n",
       "    <tr>\n",
       "      <th>ord_4</th>\n",
       "      <td>U</td>\n",
       "      <td>X</td>\n",
       "      <td>P</td>\n",
       "      <td>C</td>\n",
       "      <td>C</td>\n",
       "    </tr>\n",
       "    <tr>\n",
       "      <th>ord_5</th>\n",
       "      <td>Pw</td>\n",
       "      <td>pE</td>\n",
       "      <td>eN</td>\n",
       "      <td>NaN</td>\n",
       "      <td>OZ</td>\n",
       "    </tr>\n",
       "    <tr>\n",
       "      <th>day</th>\n",
       "      <td>6.0</td>\n",
       "      <td>7.0</td>\n",
       "      <td>5.0</td>\n",
       "      <td>3.0</td>\n",
       "      <td>5.0</td>\n",
       "    </tr>\n",
       "    <tr>\n",
       "      <th>month</th>\n",
       "      <td>3.0</td>\n",
       "      <td>7.0</td>\n",
       "      <td>9.0</td>\n",
       "      <td>3.0</td>\n",
       "      <td>12.0</td>\n",
       "    </tr>\n",
       "    <tr>\n",
       "      <th>target</th>\n",
       "      <td>0</td>\n",
       "      <td>0</td>\n",
       "      <td>0</td>\n",
       "      <td>0</td>\n",
       "      <td>0</td>\n",
       "    </tr>\n",
       "  </tbody>\n",
       "</table>\n",
       "</div>"
      ],
      "text/plain": [
       "                  0            1          2          3            4\n",
       "id                0            1          2          3            4\n",
       "bin_0           0.0          1.0        0.0        NaN          0.0\n",
       "bin_1           0.0          1.0        1.0        0.0          NaN\n",
       "bin_2           0.0          0.0        0.0        0.0          0.0\n",
       "bin_3             F            F          F          F            T\n",
       "bin_4             N            Y          N          N            N\n",
       "nom_0           Red          Red        Red        Red          Red\n",
       "nom_1     Trapezoid         Star        NaN     Circle     Triangle\n",
       "nom_2       Hamster      Axolotl    Hamster    Hamster      Hamster\n",
       "nom_3        Russia          NaN     Canada    Finland   Costa Rica\n",
       "nom_4       Bassoon     Theremin    Bassoon   Theremin          NaN\n",
       "nom_5     de4c57ee2    2bb3c3e5c  b574c9841  673bdf1f6    777d1ac2c\n",
       "nom_6     a64bc7ddf    3a3a936e8  708248125  23edb8da3    3a7975e46\n",
       "nom_7     598080a91    1dddb8473  5ddc9a726  3a33ef960    bc9cc2a94\n",
       "nom_8     0256c7a4b    52ead350c  745b909d1  bdaa56dd1          NaN\n",
       "nom_9     02e7c8990    f37df64af        NaN  f9d456e57    c5361037c\n",
       "ord_0           3.0          3.0        3.0        1.0          3.0\n",
       "ord_1   Contributor  Grandmaster        NaN     Novice  Grandmaster\n",
       "ord_2           Hot         Warm   Freezing   Lava Hot         Cold\n",
       "ord_3             c            e          n          a            h\n",
       "ord_4             U            X          P          C            C\n",
       "ord_5            Pw           pE         eN        NaN           OZ\n",
       "day             6.0          7.0        5.0        3.0          5.0\n",
       "month           3.0          7.0        9.0        3.0         12.0\n",
       "target            0            0          0          0            0"
      ]
     },
     "execution_count": 9,
     "metadata": {},
     "output_type": "execute_result"
    }
   ],
   "source": [
    "df.head().T"
   ]
  },
  {
   "cell_type": "code",
   "execution_count": 8,
   "id": "3793ebd5-1c6a-445a-9a12-5639cfacc56a",
   "metadata": {},
   "outputs": [
    {
     "data": {
      "text/plain": [
       "id            0\n",
       "bin_0     17894\n",
       "bin_1     18003\n",
       "bin_2     17930\n",
       "bin_3     18014\n",
       "bin_4     18047\n",
       "nom_0     18252\n",
       "nom_1     18156\n",
       "nom_2     18035\n",
       "nom_3     18121\n",
       "nom_4     18035\n",
       "nom_5     17778\n",
       "nom_6     18131\n",
       "nom_7     18003\n",
       "nom_8     17755\n",
       "nom_9     18073\n",
       "ord_0     18288\n",
       "ord_1     18041\n",
       "ord_2     18075\n",
       "ord_3     17916\n",
       "ord_4     17930\n",
       "ord_5     17713\n",
       "day       17952\n",
       "month     17988\n",
       "target        0\n",
       "dtype: int64"
      ]
     },
     "execution_count": 8,
     "metadata": {},
     "output_type": "execute_result"
    }
   ],
   "source": [
    "np.sum(df.isnull())"
   ]
  },
  {
   "cell_type": "code",
   "execution_count": 10,
   "id": "0e6bb7d9-30d1-450d-ad89-ef87af48e3f0",
   "metadata": {},
   "outputs": [
    {
     "data": {
      "text/plain": [
       "0    487677\n",
       "1    112323\n",
       "Name: target, dtype: int64"
      ]
     },
     "execution_count": 10,
     "metadata": {},
     "output_type": "execute_result"
    }
   ],
   "source": [
    "df['target'].value_counts()"
   ]
  },
  {
   "cell_type": "code",
   "execution_count": 11,
   "id": "1a117231-40d9-4982-8abb-bcf1f30990e8",
   "metadata": {},
   "outputs": [
    {
     "data": {
      "text/plain": [
       "id        600000\n",
       "bin_0          2\n",
       "bin_1          2\n",
       "bin_2          2\n",
       "bin_3          2\n",
       "bin_4          2\n",
       "nom_0          3\n",
       "nom_1          6\n",
       "nom_2          6\n",
       "nom_3          6\n",
       "nom_4          4\n",
       "nom_5       1220\n",
       "nom_6       1519\n",
       "nom_7        222\n",
       "nom_8        222\n",
       "nom_9       2218\n",
       "ord_0          3\n",
       "ord_1          5\n",
       "ord_2          6\n",
       "ord_3         15\n",
       "ord_4         26\n",
       "ord_5        190\n",
       "day            7\n",
       "month         12\n",
       "target         2\n",
       "dtype: int64"
      ]
     },
     "execution_count": 11,
     "metadata": {},
     "output_type": "execute_result"
    }
   ],
   "source": [
    "df.nunique()"
   ]
  },
  {
   "cell_type": "code",
   "execution_count": 12,
   "id": "b482abdf-9043-4cb0-92cc-1aebf0bb7f84",
   "metadata": {},
   "outputs": [
    {
     "data": {
      "text/plain": [
       "array(['Hot', 'Warm', 'Freezing', 'Lava Hot', 'Cold', 'Boiling Hot', nan],\n",
       "      dtype=object)"
      ]
     },
     "execution_count": 12,
     "metadata": {},
     "output_type": "execute_result"
    }
   ],
   "source": [
    "df['ord_2'].unique()"
   ]
  },
  {
   "cell_type": "code",
   "execution_count": 13,
   "id": "6d298323-75b1-4c8f-b62d-ac4b291f77f2",
   "metadata": {},
   "outputs": [],
   "source": [
    "from sklearn.preprocessing import LabelEncoder"
   ]
  },
  {
   "cell_type": "code",
   "execution_count": 14,
   "id": "72229ef8-f0a5-4dfb-9ec3-14f3ebd045d1",
   "metadata": {},
   "outputs": [],
   "source": [
    "lbl_enc = LabelEncoder()"
   ]
  },
  {
   "cell_type": "code",
   "execution_count": 15,
   "id": "80e66a31-c0fa-4da5-aad3-641755640656",
   "metadata": {},
   "outputs": [],
   "source": [
    "df.loc[:, 'ord_2'] = df.ord_2.fillna('NONE')"
   ]
  },
  {
   "cell_type": "code",
   "execution_count": 16,
   "id": "0fae5170-1f96-4f5e-8e77-7c425752f600",
   "metadata": {},
   "outputs": [
    {
     "data": {
      "text/plain": [
       "array(['Hot', 'Warm', 'Freezing', 'Lava Hot', 'Cold', 'Boiling Hot',\n",
       "       'NONE'], dtype=object)"
      ]
     },
     "execution_count": 16,
     "metadata": {},
     "output_type": "execute_result"
    }
   ],
   "source": [
    "df['ord_2'].unique()"
   ]
  },
  {
   "cell_type": "code",
   "execution_count": 17,
   "id": "5abc63d0-cd54-43f8-b479-380af4d20cf8",
   "metadata": {},
   "outputs": [],
   "source": [
    "df.loc[:, 'ord_2'] = lbl_enc.fit_transform(df.ord_2.values)"
   ]
  },
  {
   "cell_type": "code",
   "execution_count": 18,
   "id": "ee0a66ec-fec6-4e21-a47a-fb21201326ff",
   "metadata": {},
   "outputs": [
    {
     "data": {
      "text/plain": [
       "array([3, 6, 2, 4, 1, 0, 5])"
      ]
     },
     "execution_count": 18,
     "metadata": {},
     "output_type": "execute_result"
    }
   ],
   "source": [
    "df['ord_2'].unique()"
   ]
  },
  {
   "cell_type": "code",
   "execution_count": 19,
   "id": "58511188-c651-44f1-be66-01771e78e5e4",
   "metadata": {},
   "outputs": [
    {
     "data": {
      "text/plain": [
       "array(['Boiling Hot', 'Cold', 'Freezing', 'Hot', 'Lava Hot', 'NONE',\n",
       "       'Warm'], dtype=object)"
      ]
     },
     "execution_count": 19,
     "metadata": {},
     "output_type": "execute_result"
    }
   ],
   "source": [
    "lbl_enc.classes_"
   ]
  },
  {
   "cell_type": "code",
   "execution_count": 20,
   "id": "a874c053-a2ee-4942-ad2a-95c51ee79ad6",
   "metadata": {},
   "outputs": [
    {
     "data": {
      "text/plain": [
       "2    142726\n",
       "6    124239\n",
       "1     97822\n",
       "0     84790\n",
       "3     67508\n",
       "4     64840\n",
       "5     18075\n",
       "Name: ord_2, dtype: int64"
      ]
     },
     "execution_count": 20,
     "metadata": {},
     "output_type": "execute_result"
    }
   ],
   "source": [
    "df['ord_2'].value_counts()"
   ]
  },
  {
   "cell_type": "code",
   "execution_count": 21,
   "id": "bf741237-9201-4d41-a5a0-dc0db355c077",
   "metadata": {},
   "outputs": [],
   "source": [
    "df_1 = pd.read_csv('../input/cat_train_folds.csv')"
   ]
  },
  {
   "cell_type": "code",
   "execution_count": 23,
   "id": "2bf60ac1-e05f-4a25-9ef0-0fc73ad12a62",
   "metadata": {},
   "outputs": [
    {
     "data": {
      "text/plain": [
       "0    120000\n",
       "1    120000\n",
       "2    120000\n",
       "3    120000\n",
       "4    120000\n",
       "Name: kfold, dtype: int64"
      ]
     },
     "execution_count": 23,
     "metadata": {},
     "output_type": "execute_result"
    }
   ],
   "source": [
    "df_1['kfold'].value_counts()"
   ]
  },
  {
   "cell_type": "code",
   "execution_count": null,
   "id": "9db8641f-419f-4720-a436-bbaa8903e94a",
   "metadata": {},
   "outputs": [],
   "source": []
  }
 ],
 "metadata": {
  "kernelspec": {
   "display_name": "Python 3 (ipykernel)",
   "language": "python",
   "name": "python3"
  },
  "language_info": {
   "codemirror_mode": {
    "name": "ipython",
    "version": 3
   },
   "file_extension": ".py",
   "mimetype": "text/x-python",
   "name": "python",
   "nbconvert_exporter": "python",
   "pygments_lexer": "ipython3",
   "version": "3.9.12"
  }
 },
 "nbformat": 4,
 "nbformat_minor": 5
}
